{
 "cells": [
  {
   "cell_type": "code",
   "execution_count": 1,
   "id": "1f10dd69",
   "metadata": {},
   "outputs": [],
   "source": [
    "def func(new_func):\n",
    "    print(\"func started\")\n",
    "    new_func()\n",
    "    print(\"func ended\")"
   ]
  },
  {
   "cell_type": "code",
   "execution_count": 2,
   "id": "eca44b4d",
   "metadata": {},
   "outputs": [],
   "source": [
    "def hello_func():\n",
    "    print(\"hello world\")"
   ]
  },
  {
   "cell_type": "code",
   "execution_count": 3,
   "id": "de1339b7",
   "metadata": {},
   "outputs": [
    {
     "name": "stdout",
     "output_type": "stream",
     "text": [
      "func started\n",
      "hello world\n",
      "func ended\n"
     ]
    }
   ],
   "source": [
    "func(hello_func)"
   ]
  },
  {
   "cell_type": "code",
   "execution_count": 18,
   "id": "ad33bfba",
   "metadata": {},
   "outputs": [],
   "source": [
    "def new_func():\n",
    "    print(\"new func\")\n",
    "    def new_func_2():\n",
    "        print(\"new func 2\")\n",
    "    new_func_2()\n",
    "    return new_func_2"
   ]
  },
  {
   "cell_type": "code",
   "execution_count": 21,
   "id": "30ac7d21",
   "metadata": {},
   "outputs": [
    {
     "name": "stdout",
     "output_type": "stream",
     "text": [
      "new func\n",
      "new func 2\n"
     ]
    },
    {
     "data": {
      "text/plain": [
       "<function __main__.new_func.<locals>.new_func_2()>"
      ]
     },
     "execution_count": 21,
     "metadata": {},
     "output_type": "execute_result"
    }
   ],
   "source": [
    "new_func()"
   ]
  },
  {
   "cell_type": "code",
   "execution_count": 22,
   "id": "96b5551b",
   "metadata": {},
   "outputs": [
    {
     "name": "stdout",
     "output_type": "stream",
     "text": [
      "new func\n",
      "new func 2\n"
     ]
    }
   ],
   "source": [
    "new_string = new_func()"
   ]
  },
  {
   "cell_type": "code",
   "execution_count": 23,
   "id": "c63dea55",
   "metadata": {},
   "outputs": [
    {
     "name": "stdout",
     "output_type": "stream",
     "text": [
      "new func 2\n"
     ]
    }
   ],
   "source": [
    "new_string()"
   ]
  },
  {
   "cell_type": "code",
   "execution_count": 25,
   "id": "ff1f56bf",
   "metadata": {},
   "outputs": [],
   "source": [
    "def decorator_func(func):\n",
    "    \n",
    "    def wrapper_func():\n",
    "        print(\"wrapper started\")\n",
    "        \n",
    "        func()\n",
    "        \n",
    "        print(\"wrapper started\")\n",
    "    return wrapper_func"
   ]
  },
  {
   "cell_type": "code",
   "execution_count": 27,
   "id": "b1d39d97",
   "metadata": {},
   "outputs": [],
   "source": [
    "def func_new():\n",
    "    print(\"hello world\")"
   ]
  },
  {
   "cell_type": "code",
   "execution_count": 30,
   "id": "daf15b66",
   "metadata": {},
   "outputs": [],
   "source": [
    "example_func = decorator_func(func_new)"
   ]
  },
  {
   "cell_type": "code",
   "execution_count": 32,
   "id": "8697e1d3",
   "metadata": {},
   "outputs": [
    {
     "name": "stdout",
     "output_type": "stream",
     "text": [
      "wrapper started\n",
      "hello world\n",
      "wrapper started\n"
     ]
    }
   ],
   "source": [
    "example_func()"
   ]
  },
  {
   "cell_type": "code",
   "execution_count": 41,
   "id": "61d71e95",
   "metadata": {},
   "outputs": [],
   "source": [
    "## üstteki example_func yerine tek kod ile (@) func_new'e atadık\n",
    "@decorator_func\n",
    "def func_new():\n",
    "    print(\"hello world\")"
   ]
  },
  {
   "cell_type": "code",
   "execution_count": 42,
   "id": "88ed17d0",
   "metadata": {},
   "outputs": [
    {
     "name": "stdout",
     "output_type": "stream",
     "text": [
      "wrapper started\n",
      "hello world\n",
      "wrapper started\n"
     ]
    }
   ],
   "source": [
    "func_new()"
   ]
  },
  {
   "cell_type": "code",
   "execution_count": null,
   "id": "65636242",
   "metadata": {},
   "outputs": [],
   "source": []
  }
 ],
 "metadata": {
  "kernelspec": {
   "display_name": "Python 3 (ipykernel)",
   "language": "python",
   "name": "python3"
  },
  "language_info": {
   "codemirror_mode": {
    "name": "ipython",
    "version": 3
   },
   "file_extension": ".py",
   "mimetype": "text/x-python",
   "name": "python",
   "nbconvert_exporter": "python",
   "pygments_lexer": "ipython3",
   "version": "3.9.13"
  }
 },
 "nbformat": 4,
 "nbformat_minor": 5
}
