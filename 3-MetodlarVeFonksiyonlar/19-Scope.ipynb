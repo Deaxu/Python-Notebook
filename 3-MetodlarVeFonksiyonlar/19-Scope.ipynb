{
 "cells": [
  {
   "cell_type": "code",
   "execution_count": 1,
   "id": "44494859",
   "metadata": {},
   "outputs": [],
   "source": [
    "number = 10\n",
    "\n",
    "def multiply(num):\n",
    "    number = 5\n",
    "    return num * number"
   ]
  },
  {
   "cell_type": "code",
   "execution_count": 2,
   "id": "4ac6ca75",
   "metadata": {},
   "outputs": [
    {
     "data": {
      "text/plain": [
       "50"
      ]
     },
     "execution_count": 2,
     "metadata": {},
     "output_type": "execute_result"
    }
   ],
   "source": [
    "multiply(10)"
   ]
  },
  {
   "cell_type": "code",
   "execution_count": 3,
   "id": "a455992c",
   "metadata": {},
   "outputs": [
    {
     "name": "stdout",
     "output_type": "stream",
     "text": [
      "10\n"
     ]
    }
   ],
   "source": [
    "print(number)"
   ]
  },
  {
   "cell_type": "code",
   "execution_count": 4,
   "id": "0d9c9bbb",
   "metadata": {},
   "outputs": [],
   "source": [
    "a = 10\n",
    "a = 5"
   ]
  },
  {
   "cell_type": "code",
   "execution_count": 5,
   "id": "bfd01df8",
   "metadata": {},
   "outputs": [
    {
     "name": "stdout",
     "output_type": "stream",
     "text": [
      "5\n"
     ]
    }
   ],
   "source": [
    "print(a)"
   ]
  },
  {
   "cell_type": "markdown",
   "id": "e46368d7",
   "metadata": {},
   "source": [
    "# LEGB\n",
    "\n",
    "# L -> Local\n",
    "# E -> Enclosing\n",
    "# G -> Global\n",
    "# B -> Built-in"
   ]
  },
  {
   "cell_type": "code",
   "execution_count": 16,
   "id": "34063669",
   "metadata": {},
   "outputs": [],
   "source": [
    "my_string = \"Emre\"\n",
    "\n",
    "#Global\n",
    "\n",
    "def my_func():\n",
    "    #my_string = \"James\"\n",
    "    \n",
    "    #Enclosing\n",
    "    \n",
    "    def my_func_2():\n",
    "        \n",
    "        #LOCAL\n",
    "        \n",
    "        #my_string = \"Lars\"\n",
    "        print(my_string)\n",
    "        \n",
    "    my_func_2()\n",
    "    \n",
    "    # # silerek deneyebilirsin."
   ]
  },
  {
   "cell_type": "code",
   "execution_count": 17,
   "id": "29eec32e",
   "metadata": {},
   "outputs": [
    {
     "name": "stdout",
     "output_type": "stream",
     "text": [
      "Emre\n"
     ]
    }
   ],
   "source": [
    "my_func()"
   ]
  },
  {
   "cell_type": "code",
   "execution_count": 15,
   "id": "3f109be0",
   "metadata": {},
   "outputs": [
    {
     "data": {
      "text/plain": [
       "'Emre'"
      ]
     },
     "execution_count": 15,
     "metadata": {},
     "output_type": "execute_result"
    }
   ],
   "source": [
    "my_string"
   ]
  },
  {
   "cell_type": "code",
   "execution_count": 25,
   "id": "e15f67c7",
   "metadata": {},
   "outputs": [],
   "source": [
    "y = 10\n",
    "\n",
    "def new_func(y):\n",
    "    print(y)\n",
    "    y = 5\n",
    "    print(y)\n",
    "    return y"
   ]
  },
  {
   "cell_type": "code",
   "execution_count": 26,
   "id": "52ba01d4",
   "metadata": {},
   "outputs": [
    {
     "name": "stdout",
     "output_type": "stream",
     "text": [
      "10\n",
      "5\n"
     ]
    },
    {
     "data": {
      "text/plain": [
       "5"
      ]
     },
     "execution_count": 26,
     "metadata": {},
     "output_type": "execute_result"
    }
   ],
   "source": [
    "new_func(10)"
   ]
  },
  {
   "cell_type": "code",
   "execution_count": 27,
   "id": "4af08c27",
   "metadata": {},
   "outputs": [
    {
     "data": {
      "text/plain": [
       "10"
      ]
     },
     "execution_count": 27,
     "metadata": {},
     "output_type": "execute_result"
    }
   ],
   "source": [
    "y"
   ]
  },
  {
   "cell_type": "code",
   "execution_count": 28,
   "id": "e929a4ce",
   "metadata": {},
   "outputs": [
    {
     "name": "stdout",
     "output_type": "stream",
     "text": [
      "10\n",
      "5\n"
     ]
    }
   ],
   "source": [
    "y = new_func(y) ## Global olan y'yi değiştirdik"
   ]
  },
  {
   "cell_type": "code",
   "execution_count": 29,
   "id": "106cdce9",
   "metadata": {},
   "outputs": [
    {
     "data": {
      "text/plain": [
       "5"
      ]
     },
     "execution_count": 29,
     "metadata": {},
     "output_type": "execute_result"
    }
   ],
   "source": [
    "y"
   ]
  },
  {
   "cell_type": "code",
   "execution_count": 36,
   "id": "99926a6c",
   "metadata": {},
   "outputs": [],
   "source": [
    "y = 10 ## global ile global y'yi değiştirdik.\n",
    "\n",
    "def new_func ():\n",
    "    global y\n",
    "    y = 5\n",
    "    print(y)"
   ]
  },
  {
   "cell_type": "code",
   "execution_count": 37,
   "id": "64efca26",
   "metadata": {},
   "outputs": [
    {
     "name": "stdout",
     "output_type": "stream",
     "text": [
      "5\n"
     ]
    }
   ],
   "source": [
    "new_func()"
   ]
  },
  {
   "cell_type": "code",
   "execution_count": 38,
   "id": "76f750e4",
   "metadata": {},
   "outputs": [
    {
     "data": {
      "text/plain": [
       "5"
      ]
     },
     "execution_count": 38,
     "metadata": {},
     "output_type": "execute_result"
    }
   ],
   "source": [
    "y"
   ]
  },
  {
   "cell_type": "code",
   "execution_count": null,
   "id": "e5a26f85",
   "metadata": {},
   "outputs": [],
   "source": []
  }
 ],
 "metadata": {
  "kernelspec": {
   "display_name": "Python 3 (ipykernel)",
   "language": "python",
   "name": "python3"
  },
  "language_info": {
   "codemirror_mode": {
    "name": "ipython",
    "version": 3
   },
   "file_extension": ".py",
   "mimetype": "text/x-python",
   "name": "python",
   "nbconvert_exporter": "python",
   "pygments_lexer": "ipython3",
   "version": "3.9.13"
  }
 },
 "nbformat": 4,
 "nbformat_minor": 5
}
