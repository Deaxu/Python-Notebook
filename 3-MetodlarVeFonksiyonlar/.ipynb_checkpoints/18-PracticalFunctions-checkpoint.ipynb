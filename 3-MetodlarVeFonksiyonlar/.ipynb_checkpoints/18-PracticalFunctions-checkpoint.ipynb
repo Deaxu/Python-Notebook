{
 "cells": [
  {
   "cell_type": "code",
   "execution_count": 1,
   "id": "4b3191be",
   "metadata": {},
   "outputs": [],
   "source": [
    "def divide(number):\n",
    "    return number / 2"
   ]
  },
  {
   "cell_type": "code",
   "execution_count": 2,
   "id": "8dd644fb",
   "metadata": {},
   "outputs": [
    {
     "data": {
      "text/plain": [
       "5.0"
      ]
     },
     "execution_count": 2,
     "metadata": {},
     "output_type": "execute_result"
    }
   ],
   "source": [
    "divide(10)"
   ]
  },
  {
   "cell_type": "code",
   "execution_count": 12,
   "id": "de061633",
   "metadata": {},
   "outputs": [],
   "source": [
    "my_list = (1,2,3,4,5,6,7,8)"
   ]
  },
  {
   "cell_type": "code",
   "execution_count": 16,
   "id": "67aeb691",
   "metadata": {},
   "outputs": [
    {
     "name": "stdout",
     "output_type": "stream",
     "text": [
      "[0.5, 1.0, 1.5, 2.0, 2.5, 3.0, 3.5, 4.0]\n"
     ]
    }
   ],
   "source": [
    "my_new_list = []\n",
    "for num in my_list:\n",
    "    my_new_list.append(divide(num))\n",
    "print(my_new_list)"
   ]
  },
  {
   "cell_type": "code",
   "execution_count": 17,
   "id": "b8c54387",
   "metadata": {},
   "outputs": [],
   "source": [
    "## map"
   ]
  },
  {
   "cell_type": "code",
   "execution_count": 21,
   "id": "2575095d",
   "metadata": {},
   "outputs": [
    {
     "data": {
      "text/plain": [
       "[0.5, 1.0, 1.5, 2.0, 2.5, 3.0, 3.5, 4.0]"
      ]
     },
     "execution_count": 21,
     "metadata": {},
     "output_type": "execute_result"
    }
   ],
   "source": [
    "list(map(divide,my_list))"
   ]
  },
  {
   "cell_type": "code",
   "execution_count": 20,
   "id": "41a29215",
   "metadata": {},
   "outputs": [
    {
     "data": {
      "text/plain": [
       "<function __main__.divide(number)>"
      ]
     },
     "execution_count": 20,
     "metadata": {},
     "output_type": "execute_result"
    }
   ],
   "source": [
    "divide"
   ]
  },
  {
   "cell_type": "code",
   "execution_count": 24,
   "id": "bbdc14f8",
   "metadata": {},
   "outputs": [],
   "source": [
    "def  control_string(string):\n",
    "    return \"Metallica\" in string"
   ]
  },
  {
   "cell_type": "code",
   "execution_count": 25,
   "id": "94fa8c82",
   "metadata": {},
   "outputs": [
    {
     "data": {
      "text/plain": [
       "True"
      ]
     },
     "execution_count": 25,
     "metadata": {},
     "output_type": "execute_result"
    }
   ],
   "source": [
    "control_string(\"Metallica xd\")"
   ]
  },
  {
   "cell_type": "code",
   "execution_count": 34,
   "id": "8005d7fa",
   "metadata": {},
   "outputs": [],
   "source": [
    "my_artist_list = [\"Metallica2\",\"Metallica\",\"Madonna\",\"Queen\",\"Megadeth\"]"
   ]
  },
  {
   "cell_type": "code",
   "execution_count": 35,
   "id": "2d743855",
   "metadata": {},
   "outputs": [
    {
     "data": {
      "text/plain": [
       "[True, True, False, False, False]"
      ]
     },
     "execution_count": 35,
     "metadata": {},
     "output_type": "execute_result"
    }
   ],
   "source": [
    "list(map(control_string,my_artist_list))"
   ]
  },
  {
   "cell_type": "code",
   "execution_count": 36,
   "id": "e420d1bf",
   "metadata": {},
   "outputs": [],
   "source": [
    "## Filter"
   ]
  },
  {
   "cell_type": "code",
   "execution_count": 37,
   "id": "62a922e1",
   "metadata": {},
   "outputs": [
    {
     "data": {
      "text/plain": [
       "['Metallica2', 'Metallica']"
      ]
     },
     "execution_count": 37,
     "metadata": {},
     "output_type": "execute_result"
    }
   ],
   "source": [
    "list(filter(control_string,my_artist_list))"
   ]
  },
  {
   "cell_type": "code",
   "execution_count": 1,
   "id": "a661d948",
   "metadata": {},
   "outputs": [],
   "source": [
    "## lambda"
   ]
  },
  {
   "cell_type": "code",
   "execution_count": 7,
   "id": "21e6cf05",
   "metadata": {},
   "outputs": [],
   "source": [
    "multiply = lambda number:number * 3"
   ]
  },
  {
   "cell_type": "code",
   "execution_count": 8,
   "id": "76266b43",
   "metadata": {},
   "outputs": [
    {
     "data": {
      "text/plain": [
       "15"
      ]
     },
     "execution_count": 8,
     "metadata": {},
     "output_type": "execute_result"
    }
   ],
   "source": [
    "multiply(5)"
   ]
  },
  {
   "cell_type": "code",
   "execution_count": 9,
   "id": "cc1046b2",
   "metadata": {},
   "outputs": [],
   "source": [
    "my_list_3 = (3,5,7,9)"
   ]
  },
  {
   "cell_type": "code",
   "execution_count": 12,
   "id": "092d7616",
   "metadata": {},
   "outputs": [
    {
     "data": {
      "text/plain": [
       "[12, 20, 28, 36]"
      ]
     },
     "execution_count": 12,
     "metadata": {},
     "output_type": "execute_result"
    }
   ],
   "source": [
    "list (map(lambda num:num * 4, my_list_3))"
   ]
  },
  {
   "cell_type": "code",
   "execution_count": null,
   "id": "d9b4ccdf",
   "metadata": {},
   "outputs": [],
   "source": []
  }
 ],
 "metadata": {
  "kernelspec": {
   "display_name": "Python 3 (ipykernel)",
   "language": "python",
   "name": "python3"
  },
  "language_info": {
   "codemirror_mode": {
    "name": "ipython",
    "version": 3
   },
   "file_extension": ".py",
   "mimetype": "text/x-python",
   "name": "python",
   "nbconvert_exporter": "python",
   "pygments_lexer": "ipython3",
   "version": "3.9.13"
  }
 },
 "nbformat": 4,
 "nbformat_minor": 5
}
