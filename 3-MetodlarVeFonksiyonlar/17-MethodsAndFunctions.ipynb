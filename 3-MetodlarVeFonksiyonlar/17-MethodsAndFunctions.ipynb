{
 "cells": [
  {
   "cell_type": "code",
   "execution_count": 1,
   "id": "8b77c372",
   "metadata": {},
   "outputs": [],
   "source": [
    "my_string = \"Emre\""
   ]
  },
  {
   "cell_type": "code",
   "execution_count": 6,
   "id": "4feb1f9a",
   "metadata": {},
   "outputs": [],
   "source": [
    "my_string_upper = my_string.upper()"
   ]
  },
  {
   "cell_type": "code",
   "execution_count": 7,
   "id": "42c50c7d",
   "metadata": {},
   "outputs": [
    {
     "data": {
      "text/plain": [
       "'EMRE'"
      ]
     },
     "execution_count": 7,
     "metadata": {},
     "output_type": "execute_result"
    }
   ],
   "source": [
    "my_string_upper"
   ]
  },
  {
   "cell_type": "code",
   "execution_count": 8,
   "id": "1cb3dfe3",
   "metadata": {},
   "outputs": [
    {
     "name": "stdout",
     "output_type": "stream",
     "text": [
      "Help on built-in function split:\n",
      "\n",
      "split(sep=None, maxsplit=-1) method of builtins.str instance\n",
      "    Return a list of the words in the string, using sep as the delimiter string.\n",
      "    \n",
      "    sep\n",
      "      The delimiter according which to split the string.\n",
      "      None (the default value) means split according to any whitespace,\n",
      "      and discard empty strings from the result.\n",
      "    maxsplit\n",
      "      Maximum number of splits to do.\n",
      "      -1 (the default value) means no limit.\n",
      "\n"
     ]
    }
   ],
   "source": [
    "help(my_string.split)"
   ]
  },
  {
   "cell_type": "code",
   "execution_count": 10,
   "id": "fd21f7ed",
   "metadata": {},
   "outputs": [],
   "source": [
    "def hello_world():\n",
    "    print(\"hello\")\n",
    "    print(\"world\")"
   ]
  },
  {
   "cell_type": "code",
   "execution_count": 11,
   "id": "244c2541",
   "metadata": {},
   "outputs": [
    {
     "data": {
      "text/plain": [
       "<function __main__.hello_world()>"
      ]
     },
     "execution_count": 11,
     "metadata": {},
     "output_type": "execute_result"
    }
   ],
   "source": [
    "hello_world"
   ]
  },
  {
   "cell_type": "code",
   "execution_count": 12,
   "id": "4f0a90f8",
   "metadata": {},
   "outputs": [
    {
     "name": "stdout",
     "output_type": "stream",
     "text": [
      "hello\n",
      "world\n"
     ]
    }
   ],
   "source": [
    "hello_world()"
   ]
  },
  {
   "cell_type": "code",
   "execution_count": 13,
   "id": "baa6b5ec",
   "metadata": {},
   "outputs": [],
   "source": [
    "## fonksiyonu çalıştırdık"
   ]
  },
  {
   "cell_type": "code",
   "execution_count": 14,
   "id": "e60a7dbe",
   "metadata": {},
   "outputs": [],
   "source": [
    "## input ve return"
   ]
  },
  {
   "cell_type": "code",
   "execution_count": 15,
   "id": "6315ad9a",
   "metadata": {},
   "outputs": [],
   "source": [
    "def hp(name):\n",
    "    print(\"hello\")\n",
    "    print(name)"
   ]
  },
  {
   "cell_type": "code",
   "execution_count": 18,
   "id": "05caf59d",
   "metadata": {},
   "outputs": [
    {
     "name": "stdout",
     "output_type": "stream",
     "text": [
      "hello\n",
      "ptyhon\n"
     ]
    }
   ],
   "source": [
    "hp(\"ptyhon\")"
   ]
  },
  {
   "cell_type": "code",
   "execution_count": 19,
   "id": "5518f395",
   "metadata": {},
   "outputs": [
    {
     "name": "stdout",
     "output_type": "stream",
     "text": [
      "hello\n",
      "Java\n"
     ]
    }
   ],
   "source": [
    "hp(\"Java\")"
   ]
  },
  {
   "cell_type": "code",
   "execution_count": 23,
   "id": "3ce85423",
   "metadata": {},
   "outputs": [],
   "source": [
    "def hello_program(name = \"Python\"):\n",
    "    print(\"Hello\")\n",
    "    print(name)"
   ]
  },
  {
   "cell_type": "code",
   "execution_count": 24,
   "id": "774b5e0e",
   "metadata": {},
   "outputs": [
    {
     "name": "stdout",
     "output_type": "stream",
     "text": [
      "Hello\n",
      "Python\n"
     ]
    }
   ],
   "source": [
    "hello_program()"
   ]
  },
  {
   "cell_type": "code",
   "execution_count": 25,
   "id": "d488ac09",
   "metadata": {},
   "outputs": [
    {
     "name": "stdout",
     "output_type": "stream",
     "text": [
      "Hello\n",
      "Java\n"
     ]
    }
   ],
   "source": [
    "hello_program(\"Java\")"
   ]
  },
  {
   "cell_type": "code",
   "execution_count": 29,
   "id": "7774e933",
   "metadata": {},
   "outputs": [],
   "source": [
    "def summ(number1,number2):\n",
    "    number3 = number1 + number2\n",
    "    print(number3)"
   ]
  },
  {
   "cell_type": "code",
   "execution_count": 30,
   "id": "df6f288e",
   "metadata": {},
   "outputs": [
    {
     "name": "stdout",
     "output_type": "stream",
     "text": [
      "13\n"
     ]
    }
   ],
   "source": [
    "summ(5,8)"
   ]
  },
  {
   "cell_type": "code",
   "execution_count": 31,
   "id": "3710129e",
   "metadata": {},
   "outputs": [
    {
     "name": "stdout",
     "output_type": "stream",
     "text": [
      "-480\n"
     ]
    }
   ],
   "source": [
    "summ(10,-490)"
   ]
  },
  {
   "cell_type": "code",
   "execution_count": 33,
   "id": "d6da28ff",
   "metadata": {},
   "outputs": [],
   "source": [
    "def summation(num1,num2,num3):\n",
    "    return num1 + num2 + num3"
   ]
  },
  {
   "cell_type": "code",
   "execution_count": 34,
   "id": "6ec0fbb3",
   "metadata": {},
   "outputs": [
    {
     "data": {
      "text/plain": [
       "60"
      ]
     },
     "execution_count": 34,
     "metadata": {},
     "output_type": "execute_result"
    }
   ],
   "source": [
    "summation(10,20,30)"
   ]
  },
  {
   "cell_type": "code",
   "execution_count": 35,
   "id": "2e0593d2",
   "metadata": {},
   "outputs": [],
   "source": [
    "my_result = summation(10,20,30)"
   ]
  },
  {
   "cell_type": "code",
   "execution_count": 36,
   "id": "382909a9",
   "metadata": {},
   "outputs": [
    {
     "data": {
      "text/plain": [
       "60"
      ]
     },
     "execution_count": 36,
     "metadata": {},
     "output_type": "execute_result"
    }
   ],
   "source": [
    "my_result"
   ]
  },
  {
   "cell_type": "code",
   "execution_count": 37,
   "id": "af127742",
   "metadata": {},
   "outputs": [
    {
     "name": "stdout",
     "output_type": "stream",
     "text": [
      "30\n"
     ]
    }
   ],
   "source": [
    "my_integer = summ(10,20)"
   ]
  },
  {
   "cell_type": "code",
   "execution_count": 38,
   "id": "07e40f21",
   "metadata": {},
   "outputs": [],
   "source": [
    "my_integer"
   ]
  },
  {
   "cell_type": "code",
   "execution_count": 39,
   "id": "86a0ef41",
   "metadata": {},
   "outputs": [
    {
     "data": {
      "text/plain": [
       "NoneType"
      ]
     },
     "execution_count": 39,
     "metadata": {},
     "output_type": "execute_result"
    }
   ],
   "source": [
    "type(my_integer)"
   ]
  },
  {
   "cell_type": "code",
   "execution_count": 3,
   "id": "f2fae2cf",
   "metadata": {},
   "outputs": [],
   "source": [
    "def control_string(s):\n",
    "    if s[0] == \"m\":\n",
    "        print(s.capitalize())"
   ]
  },
  {
   "cell_type": "code",
   "execution_count": 4,
   "id": "3078f12f",
   "metadata": {},
   "outputs": [
    {
     "name": "stdout",
     "output_type": "stream",
     "text": [
      "Metallica\n"
     ]
    }
   ],
   "source": [
    "control_string(\"metallica\")"
   ]
  },
  {
   "cell_type": "code",
   "execution_count": 5,
   "id": "4a6178cc",
   "metadata": {},
   "outputs": [],
   "source": [
    "## Yerine yerleştirdik"
   ]
  },
  {
   "cell_type": "code",
   "execution_count": 1,
   "id": "a63ac0a4",
   "metadata": {},
   "outputs": [],
   "source": [
    "## Arbitrary argument & Key word argument"
   ]
  },
  {
   "cell_type": "code",
   "execution_count": 4,
   "id": "d0dc6b16",
   "metadata": {},
   "outputs": [],
   "source": [
    "def summation_2(*args):\n",
    "    return sum(args)"
   ]
  },
  {
   "cell_type": "code",
   "execution_count": 5,
   "id": "e7f2194f",
   "metadata": {},
   "outputs": [
    {
     "data": {
      "text/plain": [
       "60"
      ]
     },
     "execution_count": 5,
     "metadata": {},
     "output_type": "execute_result"
    }
   ],
   "source": [
    "summation_2(10,20,30)"
   ]
  },
  {
   "cell_type": "code",
   "execution_count": 6,
   "id": "12dc6ded",
   "metadata": {},
   "outputs": [
    {
     "data": {
      "text/plain": [
       "570"
      ]
     },
     "execution_count": 6,
     "metadata": {},
     "output_type": "execute_result"
    }
   ],
   "source": [
    "summation_2(50,60,70,90,100,200)"
   ]
  },
  {
   "cell_type": "code",
   "execution_count": 7,
   "id": "e33a901b",
   "metadata": {},
   "outputs": [],
   "source": [
    "def my_func(*args):\n",
    "    print(args)"
   ]
  },
  {
   "cell_type": "code",
   "execution_count": 8,
   "id": "e62be46c",
   "metadata": {},
   "outputs": [
    {
     "name": "stdout",
     "output_type": "stream",
     "text": [
      "(10, 20)\n"
     ]
    }
   ],
   "source": [
    "my_func(10,20)"
   ]
  },
  {
   "cell_type": "code",
   "execution_count": 9,
   "id": "48639937",
   "metadata": {},
   "outputs": [
    {
     "name": "stdout",
     "output_type": "stream",
     "text": [
      "('merhaba', 'hello')\n"
     ]
    }
   ],
   "source": [
    "my_func(\"merhaba\",\"hello\")"
   ]
  },
  {
   "cell_type": "code",
   "execution_count": 10,
   "id": "f8d79ce2",
   "metadata": {},
   "outputs": [],
   "source": [
    "## def my_func_2(*emre):\n",
    "   ## print(emre)"
   ]
  },
  {
   "cell_type": "code",
   "execution_count": 11,
   "id": "d91543fd",
   "metadata": {},
   "outputs": [
    {
     "name": "stdout",
     "output_type": "stream",
     "text": [
      "('emre', 'aksu', 'dursun')\n"
     ]
    }
   ],
   "source": [
    "my_func_2(\"emre\",\"aksu\",\"dursun\")"
   ]
  },
  {
   "cell_type": "code",
   "execution_count": 12,
   "id": "b6ac3005",
   "metadata": {},
   "outputs": [],
   "source": [
    "def example_func(**kwargs):\n",
    "    print(kwargs)"
   ]
  },
  {
   "cell_type": "code",
   "execution_count": 13,
   "id": "9794a172",
   "metadata": {},
   "outputs": [
    {
     "name": "stdout",
     "output_type": "stream",
     "text": [
      "{'run': 100, 'swim': 200, 'basketball': 300}\n"
     ]
    }
   ],
   "source": [
    "example_func(run=100,swim=200,basketball=300)"
   ]
  },
  {
   "cell_type": "code",
   "execution_count": 14,
   "id": "556d1373",
   "metadata": {},
   "outputs": [
    {
     "name": "stdout",
     "output_type": "stream",
     "text": [
      "{'a': 1, 'b': 2}\n"
     ]
    }
   ],
   "source": [
    "example_func (a=1,b=2)"
   ]
  },
  {
   "cell_type": "code",
   "execution_count": 15,
   "id": "7f747385",
   "metadata": {},
   "outputs": [],
   "source": [
    "def keyword_func(**kwargs):\n",
    "    if \"Metallica\" in kwargs:\n",
    "        print(\"Heavy Metal\")\n",
    "    else:\n",
    "        print(\"Rock is dead\")"
   ]
  },
  {
   "cell_type": "code",
   "execution_count": 16,
   "id": "62bd94ef",
   "metadata": {},
   "outputs": [
    {
     "name": "stdout",
     "output_type": "stream",
     "text": [
      "Heavy Metal\n"
     ]
    }
   ],
   "source": [
    "keyword_func(Metallica=20,Madonna=5,MuslumGurse=4)"
   ]
  },
  {
   "cell_type": "code",
   "execution_count": 17,
   "id": "dee3f8f6",
   "metadata": {},
   "outputs": [
    {
     "name": "stdout",
     "output_type": "stream",
     "text": [
      "Rock is dead\n"
     ]
    }
   ],
   "source": [
    "keyword_func(Madonna=0,Mickey=3)"
   ]
  },
  {
   "cell_type": "code",
   "execution_count": null,
   "id": "e7fd1f1a",
   "metadata": {},
   "outputs": [],
   "source": []
  }
 ],
 "metadata": {
  "kernelspec": {
   "display_name": "Python 3 (ipykernel)",
   "language": "python",
   "name": "python3"
  },
  "language_info": {
   "codemirror_mode": {
    "name": "ipython",
    "version": 3
   },
   "file_extension": ".py",
   "mimetype": "text/x-python",
   "name": "python",
   "nbconvert_exporter": "python",
   "pygments_lexer": "ipython3",
   "version": "3.9.13"
  }
 },
 "nbformat": 4,
 "nbformat_minor": 5
}
