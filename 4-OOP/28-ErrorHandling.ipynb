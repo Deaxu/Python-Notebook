{
 "cells": [
  {
   "cell_type": "code",
   "execution_count": 1,
   "id": "48764678",
   "metadata": {},
   "outputs": [],
   "source": [
    "def summation(num1,num2):\n",
    "    return num1 + num2"
   ]
  },
  {
   "cell_type": "code",
   "execution_count": 8,
   "id": "20b57770",
   "metadata": {},
   "outputs": [
    {
     "name": "stdout",
     "output_type": "stream",
     "text": [
      "Enter number: james\n"
     ]
    }
   ],
   "source": [
    "x = input(\"Enter number: \")"
   ]
  },
  {
   "cell_type": "code",
   "execution_count": 9,
   "id": "37f0c65c",
   "metadata": {},
   "outputs": [
    {
     "name": "stdout",
     "output_type": "stream",
     "text": [
      "Enter number: 20\n"
     ]
    }
   ],
   "source": [
    "y =  input(\"Enter number: \")"
   ]
  },
  {
   "cell_type": "code",
   "execution_count": 11,
   "id": "6bb9507c",
   "metadata": {},
   "outputs": [],
   "source": [
    "def numberpower(num1):\n",
    "    return num1 ** 2"
   ]
  },
  {
   "cell_type": "markdown",
   "id": "28df55e6",
   "metadata": {},
   "source": [
    "## try,expect,finally\n"
   ]
  },
  {
   "cell_type": "code",
   "execution_count": 26,
   "id": "1359d695",
   "metadata": {},
   "outputs": [
    {
     "name": "stdout",
     "output_type": "stream",
     "text": [
      "Enter a number: james\n",
      "Enter a number !!!\n",
      "Finally\n",
      "Enter a number: on iki\n",
      "Enter a number !!!\n",
      "Finally\n",
      "Enter a number: -10\n",
      "OK\n",
      "Finally\n"
     ]
    }
   ],
   "source": [
    "while True:\n",
    "    try:\n",
    "        my_int = int(input(\"Enter a number: \"))\n",
    "    except: ## try olmazsa çalışır\n",
    "        print(\"Enter a number !!!\")\n",
    "        continue\n",
    "    else:\n",
    "        print(\"OK\")\n",
    "        break\n",
    "    finally: ## her zaman çalışır\n",
    "        print(\"Finally\")"
   ]
  }
 ],
 "metadata": {
  "kernelspec": {
   "display_name": "Python 3 (ipykernel)",
   "language": "python",
   "name": "python3"
  },
  "language_info": {
   "codemirror_mode": {
    "name": "ipython",
    "version": 3
   },
   "file_extension": ".py",
   "mimetype": "text/x-python",
   "name": "python",
   "nbconvert_exporter": "python",
   "pygments_lexer": "ipython3",
   "version": "3.9.13"
  }
 },
 "nbformat": 4,
 "nbformat_minor": 5
}
