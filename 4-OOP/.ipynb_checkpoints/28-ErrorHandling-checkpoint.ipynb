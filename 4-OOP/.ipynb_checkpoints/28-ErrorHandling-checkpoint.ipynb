{
 "cells": [
  {
   "cell_type": "code",
   "execution_count": null,
   "id": "fb4f52e8",
   "metadata": {},
   "outputs": [],
   "source": [
    "def summation(num1,num2):\n",
    "    return num1 + num2"
   ]
  },
  {
   "cell_type": "code",
   "execution_count": null,
   "id": "7fcd72ff",
   "metadata": {},
   "outputs": [],
   "source": [
    "x = input(\"Enter number: \")"
   ]
  },
  {
   "cell_type": "code",
   "execution_count": null,
   "id": "81714a93",
   "metadata": {},
   "outputs": [],
   "source": [
    "y =  input(\"Enter number: \")"
   ]
  },
  {
   "cell_type": "markdown",
   "id": "95fab66b",
   "metadata": {},
   "source": [
    "summation("
   ]
  }
 ],
 "metadata": {
  "kernelspec": {
   "display_name": "Python 3 (ipykernel)",
   "language": "python",
   "name": "python3"
  },
  "language_info": {
   "codemirror_mode": {
    "name": "ipython",
    "version": 3
   },
   "file_extension": ".py",
   "mimetype": "text/x-python",
   "name": "python",
   "nbconvert_exporter": "python",
   "pygments_lexer": "ipython3",
   "version": "3.9.13"
  }
 },
 "nbformat": 4,
 "nbformat_minor": 5
}
