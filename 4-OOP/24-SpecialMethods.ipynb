{
 "cells": [
  {
   "cell_type": "code",
   "execution_count": 25,
   "id": "e69e451c",
   "metadata": {},
   "outputs": [],
   "source": [
    "class Fruits():\n",
    "    \n",
    "    def __init__(self,name,calories):\n",
    "        self.name = name\n",
    "        self.calories = calories\n",
    "        \n",
    "    def __str__(self):\n",
    "        return f\"{self.name} has {self.calories} calories\"\n",
    "    \n",
    "    def __len__(self):\n",
    "        return self.calories"
   ]
  },
  {
   "cell_type": "code",
   "execution_count": 26,
   "id": "67beb11e",
   "metadata": {},
   "outputs": [],
   "source": [
    "my_fruit = Fruits(\"Banana\",200)"
   ]
  },
  {
   "cell_type": "code",
   "execution_count": 27,
   "id": "cc1dd867",
   "metadata": {},
   "outputs": [
    {
     "name": "stdout",
     "output_type": "stream",
     "text": [
      "Banana has 200 calories\n"
     ]
    }
   ],
   "source": [
    "print(my_fruit)"
   ]
  },
  {
   "cell_type": "code",
   "execution_count": 28,
   "id": "dbdbbb34",
   "metadata": {},
   "outputs": [],
   "source": [
    "my_list = [\"a\",\"b\",3]"
   ]
  },
  {
   "cell_type": "code",
   "execution_count": 29,
   "id": "d56c6821",
   "metadata": {},
   "outputs": [
    {
     "name": "stdout",
     "output_type": "stream",
     "text": [
      "['a', 'b', 3]\n"
     ]
    }
   ],
   "source": [
    "print(my_list)"
   ]
  },
  {
   "cell_type": "code",
   "execution_count": 30,
   "id": "0670607b",
   "metadata": {},
   "outputs": [
    {
     "data": {
      "text/plain": [
       "3"
      ]
     },
     "execution_count": 30,
     "metadata": {},
     "output_type": "execute_result"
    }
   ],
   "source": [
    "len(my_list)"
   ]
  },
  {
   "cell_type": "code",
   "execution_count": 32,
   "id": "6b46ddc3",
   "metadata": {},
   "outputs": [
    {
     "data": {
      "text/plain": [
       "200"
      ]
     },
     "execution_count": 32,
     "metadata": {},
     "output_type": "execute_result"
    }
   ],
   "source": [
    "len(my_fruit)"
   ]
  },
  {
   "cell_type": "code",
   "execution_count": null,
   "id": "d6ab204e",
   "metadata": {},
   "outputs": [],
   "source": []
  }
 ],
 "metadata": {
  "kernelspec": {
   "display_name": "Python 3 (ipykernel)",
   "language": "python",
   "name": "python3"
  },
  "language_info": {
   "codemirror_mode": {
    "name": "ipython",
    "version": 3
   },
   "file_extension": ".py",
   "mimetype": "text/x-python",
   "name": "python",
   "nbconvert_exporter": "python",
   "pygments_lexer": "ipython3",
   "version": "3.9.13"
  }
 },
 "nbformat": 4,
 "nbformat_minor": 5
}
