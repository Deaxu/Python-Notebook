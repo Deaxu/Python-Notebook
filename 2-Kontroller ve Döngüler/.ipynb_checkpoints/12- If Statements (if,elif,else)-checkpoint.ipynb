{
 "cells": [
  {
   "cell_type": "code",
   "execution_count": 3,
   "id": "e4181ad5",
   "metadata": {},
   "outputs": [
    {
     "name": "stdout",
     "output_type": "stream",
     "text": [
      "3 is greater than 2\n",
      "3 2 1\n"
     ]
    }
   ],
   "source": [
    "if 3 > 2:\n",
    "    print(\"3 is greater than 2\")\n",
    "    print(\"3 2 1\")"
   ]
  },
  {
   "cell_type": "code",
   "execution_count": 18,
   "id": "1375d114",
   "metadata": {},
   "outputs": [],
   "source": [
    "x = 4"
   ]
  },
  {
   "cell_type": "code",
   "execution_count": 19,
   "id": "281475ae",
   "metadata": {},
   "outputs": [],
   "source": [
    "y = 4"
   ]
  },
  {
   "cell_type": "code",
   "execution_count": 22,
   "id": "c9ce9089",
   "metadata": {},
   "outputs": [
    {
     "name": "stdout",
     "output_type": "stream",
     "text": [
      "x is y\n"
     ]
    }
   ],
   "source": [
    "if x > y:\n",
    "    print(\"x is greater\")\n",
    "elif x == y:\n",
    "    print(\"x is y\")\n",
    "else:\n",
    "    print(\"y is greater\")"
   ]
  },
  {
   "cell_type": "code",
   "execution_count": 33,
   "id": "a27416b1",
   "metadata": {},
   "outputs": [
    {
     "name": "stdout",
     "output_type": "stream",
     "text": [
      "superhero: Ironman\n"
     ]
    }
   ],
   "source": [
    "my_superhero = input(\"superhero: \")"
   ]
  },
  {
   "cell_type": "code",
   "execution_count": 34,
   "id": "6f0c9efb",
   "metadata": {},
   "outputs": [
    {
     "name": "stdout",
     "output_type": "stream",
     "text": [
      "Ironmaaaan\n"
     ]
    }
   ],
   "source": [
    "if my_superhero == \"Batman\":\n",
    "    print(\"Batmaaaaan\")\n",
    "elif my_superhero == \"Superman\":\n",
    "    print(\"Supermaaan\")\n",
    "elif my_superhero == \"Ironman\":\n",
    "    print(\"Ironmaaaan\")\n",
    "else:\n",
    "    print(\":/\")"
   ]
  },
  {
   "cell_type": "code",
   "execution_count": 35,
   "id": "5dd1754c",
   "metadata": {},
   "outputs": [],
   "source": [
    "a = 10"
   ]
  },
  {
   "cell_type": "code",
   "execution_count": 36,
   "id": "5c216369",
   "metadata": {},
   "outputs": [],
   "source": [
    "b =  15"
   ]
  },
  {
   "cell_type": "code",
   "execution_count": 37,
   "id": "751d7592",
   "metadata": {},
   "outputs": [],
   "source": [
    "c = 20"
   ]
  },
  {
   "cell_type": "code",
   "execution_count": 40,
   "id": "b20dc55b",
   "metadata": {},
   "outputs": [
    {
     "name": "stdout",
     "output_type": "stream",
     "text": [
      "superman\n"
     ]
    }
   ],
   "source": [
    "if a > b or b < c:\n",
    "    print(\"superman\")\n",
    "elif a < b and b > c:\n",
    "    print(\"batman\")\n",
    "else:\n",
    "    print(\"aquaman\")"
   ]
  },
  {
   "cell_type": "code",
   "execution_count": 41,
   "id": "2732953b",
   "metadata": {},
   "outputs": [],
   "source": [
    "isDead = False"
   ]
  },
  {
   "cell_type": "code",
   "execution_count": 43,
   "id": "07c0c2fe",
   "metadata": {},
   "outputs": [
    {
     "name": "stdout",
     "output_type": "stream",
     "text": [
      "character is not dead\n"
     ]
    }
   ],
   "source": [
    "if isDead == True:\n",
    "    print(\"character is dead\")\n",
    "else:\n",
    "    print(\"character is not dead\")"
   ]
  },
  {
   "cell_type": "code",
   "execution_count": 44,
   "id": "6031f174",
   "metadata": {},
   "outputs": [
    {
     "name": "stdout",
     "output_type": "stream",
     "text": [
      "character is not dead\n"
     ]
    }
   ],
   "source": [
    "if isDead:\n",
    "    print(\"character is dead\")\n",
    "else:\n",
    "    print(\"character is not dead\")"
   ]
  },
  {
   "cell_type": "code",
   "execution_count": 45,
   "id": "1f411ff0",
   "metadata": {},
   "outputs": [
    {
     "name": "stdout",
     "output_type": "stream",
     "text": [
      "character is not dead\n"
     ]
    }
   ],
   "source": [
    "if not isDead:\n",
    "    print(\"character is not dead\")"
   ]
  },
  {
   "cell_type": "code",
   "execution_count": null,
   "id": "8d1a8336",
   "metadata": {},
   "outputs": [],
   "source": [
    "# if kullanımları"
   ]
  },
  {
   "cell_type": "code",
   "execution_count": 47,
   "id": "c7a4b7ad",
   "metadata": {},
   "outputs": [],
   "source": [
    "my_string = \"hello world\""
   ]
  },
  {
   "cell_type": "code",
   "execution_count": 48,
   "id": "38cfcc0b",
   "metadata": {},
   "outputs": [
    {
     "name": "stdout",
     "output_type": "stream",
     "text": [
      "equal\n"
     ]
    }
   ],
   "source": [
    "if my_string == \"hello world\":\n",
    "    print(\"equal\")"
   ]
  },
  {
   "cell_type": "code",
   "execution_count": 50,
   "id": "3bb042d4",
   "metadata": {},
   "outputs": [
    {
     "name": "stdout",
     "output_type": "stream",
     "text": [
      "true\n"
     ]
    }
   ],
   "source": [
    "if \"hello\" in my_string:\n",
    "    print(\"true\")\n",
    "else:\n",
    "    print(\"false\")"
   ]
  },
  {
   "cell_type": "markdown",
   "id": "235285fa",
   "metadata": {},
   "source": [
    "> üstteki kodda str içinde o kelime var mı diye baktık"
   ]
  },
  {
   "cell_type": "code",
   "execution_count": 3,
   "id": "db8e9665",
   "metadata": {},
   "outputs": [],
   "source": [
    "my_list = [1,2,3,4,5]"
   ]
  },
  {
   "cell_type": "code",
   "execution_count": 6,
   "id": "e9c78da0",
   "metadata": {},
   "outputs": [
    {
     "name": "stdout",
     "output_type": "stream",
     "text": [
      "Kontrol edilecek sayı:3\n",
      "true\n"
     ]
    }
   ],
   "source": [
    "a = int(input(\"Kontrol edilecek sayı:\"))\n",
    "if a in my_list:\n",
    "    print(\"true\")\n",
    "else:\n",
    "    print(\"false\")"
   ]
  },
  {
   "cell_type": "code",
   "execution_count": 6,
   "id": "d4185b6e",
   "metadata": {},
   "outputs": [],
   "source": [
    "my_dictionary = {\"k1\":100, \"k2\": 200, \"k3\":300}"
   ]
  },
  {
   "cell_type": "code",
   "execution_count": 12,
   "id": "133dfd85",
   "metadata": {},
   "outputs": [
    {
     "name": "stdout",
     "output_type": "stream",
     "text": [
      "true\n"
     ]
    }
   ],
   "source": [
    "if \"k1\" in my_dictionary.keys():\n",
    "    print(\"true\")\n",
    "else:\n",
    "    print(\"false\")"
   ]
  },
  {
   "cell_type": "code",
   "execution_count": 13,
   "id": "53323781",
   "metadata": {},
   "outputs": [
    {
     "name": "stdout",
     "output_type": "stream",
     "text": [
      "true\n"
     ]
    }
   ],
   "source": [
    "if 100 in my_dictionary.values():\n",
    "    print(\"true\")\n",
    "else:\n",
    "    print(\"false\")"
   ]
  },
  {
   "cell_type": "code",
   "execution_count": null,
   "id": "9bd60491",
   "metadata": {},
   "outputs": [],
   "source": []
  }
 ],
 "metadata": {
  "kernelspec": {
   "display_name": "Python 3 (ipykernel)",
   "language": "python",
   "name": "python3"
  },
  "language_info": {
   "codemirror_mode": {
    "name": "ipython",
    "version": 3
   },
   "file_extension": ".py",
   "mimetype": "text/x-python",
   "name": "python",
   "nbconvert_exporter": "python",
   "pygments_lexer": "ipython3",
   "version": "3.9.13"
  }
 },
 "nbformat": 4,
 "nbformat_minor": 5
}
